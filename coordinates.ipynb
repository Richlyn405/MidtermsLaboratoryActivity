{
 "cells": [
  {
   "cell_type": "code",
   "execution_count": 1,
   "id": "6600a2b9-527d-4e0b-8b00-7d6a567aabf5",
   "metadata": {},
   "outputs": [
    {
     "name": "stdout",
     "output_type": "stream",
     "text": [
      "Points: ((2, 3), (8, 7), (5, -2))\n",
      "Distance between A and B: 7.21\n",
      "Distance between A and C: 5.83\n",
      "Midpoint between A and B: (5.0, 5.0)\n",
      "\n",
      "Error Demonstration: Tuples are immutable!\n",
      "Error message: 'tuple' object does not support item assignment\n"
     ]
    }
   ],
   "source": [
    "#Task 2.1: Coordinate System with Tuples\n",
    "import math\n",
    "\n",
    "# Define at least three points as tuples\n",
    "pointA = (2, 3)\n",
    "pointB = (8, 7)\n",
    "pointC = (5, -2)\n",
    "\n",
    "# Function to calculate distance between two points\n",
    "def calculate_distance(p1, p2):\n",
    "    return math.sqrt((p2[0] - p1[0])**2 + (p2[1] - p1[1])**2)\n",
    "\n",
    "# Function to find the midpoint between two points\n",
    "def find_midpoint(p1, p2):\n",
    "    return ((p1[0] + p2[0]) / 2, (p1[1] + p2[1]) / 2)\n",
    "\n",
    "# Create a tuple containing all points\n",
    "all_points = (pointA, pointB, pointC)\n",
    "\n",
    "# --- Testing the functions ---\n",
    "print(\"Points:\", all_points)\n",
    "print(f\"Distance between A and B: {calculate_distance(pointA, pointB):.2f}\")\n",
    "print(f\"Distance between A and C: {calculate_distance(pointA, pointC):.2f}\")\n",
    "print(f\"Midpoint between A and B: {find_midpoint(pointA, pointB)}\")\n",
    "\n",
    "# Demonstrate that tuples are immutable (this will cause an error)\n",
    "try:\n",
    "    pointA[0] = 10  # trying to modify a tuple element\n",
    "except TypeError as e:\n",
    "    print(\"\\nError Demonstration: Tuples are immutable!\")\n",
    "    print(\"Error message:\", e)\n"
   ]
  },
  {
   "cell_type": "code",
   "execution_count": 7,
   "id": "2d39c385-367e-4750-b9a7-791714b67e94",
   "metadata": {},
   "outputs": [
    {
     "name": "stdout",
     "output_type": "stream",
     "text": [
      "\n",
      "Original Text:\n",
      "Python is a programming language. Python is easy to learn. Python is powerful.\n",
      "\n",
      "Total Words: 13\n",
      "Unique Words: 9\n",
      "Unique Word Set: {'language', 'python', 'to', 'learn', 'is', 'a', 'powerful', 'easy', 'programming'}\n",
      "\n",
      "Most Common Words:\n",
      "python: 3\n",
      "is: 3\n",
      "a: 1\n",
      "programming: 1\n",
      "language: 1\n",
      "easy: 1\n",
      "to: 1\n",
      "learn: 1\n",
      "powerful: 1\n"
     ]
    }
   ],
   "source": [
    "#Task 2.2: Unique Word Counter with Sets\n",
    "text = \"Python is a programming language. Python is easy to learn. Python is powerful.\"\n",
    "\n",
    "# Split the text into words (convert to lowercase to handle duplicates)\n",
    "words = text.lower().replace(\".\", \"\").split()\n",
    "\n",
    "# Create a set of unique words\n",
    "unique_words = set(words)\n",
    "\n",
    "# Count total and unique words\n",
    "total_words = len(words)\n",
    "unique_count = len(unique_words)\n",
    "\n",
    "# Find the most common words\n",
    "word_frequency = {}\n",
    "for word in words:\n",
    "    word_frequency[word] = word_frequency.get(word, 0) + 1\n",
    "\n",
    "# Sort by frequency (descending)\n",
    "sorted_words = sorted(word_frequency.items(), key=lambda x: x[1], reverse=True)\n",
    "\n",
    "# --- Display results ---\n",
    "print(\"\\nOriginal Text:\")\n",
    "print(text)\n",
    "print(\"\\nTotal Words:\", total_words)\n",
    "print(\"Unique Words:\", unique_count)\n",
    "print(\"Unique Word Set:\", unique_words)\n",
    "print(\"\\nMost Common Words:\")\n",
    "for word, count in sorted_words:\n",
    "    print(f\"{word}: {count}\")\n"
   ]
  },
  {
   "cell_type": "code",
   "execution_count": null,
   "id": "cc16120e-5c40-4255-b5c8-2b3fd9a0aec4",
   "metadata": {},
   "outputs": [],
   "source": []
  }
 ],
 "metadata": {
  "kernelspec": {
   "display_name": "Python [conda env:base] *",
   "language": "python",
   "name": "conda-base-py"
  },
  "language_info": {
   "codemirror_mode": {
    "name": "ipython",
    "version": 3
   },
   "file_extension": ".py",
   "mimetype": "text/x-python",
   "name": "python",
   "nbconvert_exporter": "python",
   "pygments_lexer": "ipython3",
   "version": "3.12.7"
  }
 },
 "nbformat": 4,
 "nbformat_minor": 5
}
