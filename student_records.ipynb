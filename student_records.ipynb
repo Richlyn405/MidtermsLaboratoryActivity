{
 "cells": [
  {
   "cell_type": "code",
   "execution_count": 3,
   "id": "1bfba64d-e289-4810-8255-73f19c14c94f",
   "metadata": {},
   "outputs": [
    {
     "name": "stdout",
     "output_type": "stream",
     "text": [
      "Student records saved successfully!\n",
      "Student records loaded successfully!\n",
      "\n",
      "Loaded Data: {'101': {'name': 'Richell', 'grade': 90, 'major': 'Computer Science'}, '102': {'name': 'Aira', 'grade': 93, 'major': 'Data Mining'}, '103': {'name': 'Mili', 'grade': 92, 'major': 'Data Science'}}\n",
      "Student records exported to text file successfully!\n"
     ]
    }
   ],
   "source": [
    "import pickle\n",
    "def save_students(students, filename):\n",
    "    with open(filename, 'wb') as file:\n",
    "        pickle.dump(students, file)\n",
    "    print(\"Student records saved successfully!\")\n",
    "\n",
    "def load_students(filename):\n",
    "    try:\n",
    "        with open(filename, 'rb') as file:\n",
    "            students = pickle.load(file)\n",
    "        print(\"Student records loaded successfully!\")\n",
    "        return students\n",
    "    except FileNotFoundError:\n",
    "        print(\"File not found.\")\n",
    "        return {}\n",
    "\n",
    "def export_to_text(students, filename):\n",
    "    with open(filename, 'w') as file:\n",
    "        for sid, info in students.items():\n",
    "            file.write(f\"ID: {sid}\\n\")\n",
    "            file.write(f\"Name: {info['name']}\\n\")\n",
    "            file.write(f\"Grade: {info['grade']}\\n\")\n",
    "            file.write(f\"Major: {info['major']}\\n\\n\")\n",
    "    print(\"Student records exported to text file successfully!\")\n",
    "\n",
    "# --- Sample student data ---\n",
    "students = {\n",
    "    \"101\": {\"name\": \"Richell\", \"grade\": 90, \"major\": \"Computer Science\"},\n",
    "    \"102\": {\"name\": \"Aira\", \"grade\": 93, \"major\": \"Data Mining\"},\n",
    "    \"103\": {\"name\": \"Mili\", \"grade\": 92, \"major\": \"Data Science\"}\n",
    "}\n",
    "\n",
    "save_students(students, \"students.pkl\")\n",
    "\n",
    "loaded_students = load_students(\"students.pkl\")\n",
    "print(\"\\nLoaded Data:\", loaded_students)\n",
    "\n",
    "export_to_text(loaded_students, \"students.txt\")\n"
   ]
  },
  {
   "cell_type": "code",
   "execution_count": 5,
   "id": "9b0846c3-863f-42c8-823f-55b34bdf43a9",
   "metadata": {},
   "outputs": [
    {
     "name": "stdout",
     "output_type": "stream",
     "text": [
      "File created and written successfully!\n",
      "\n",
      "--- File Content ---\n",
      "This is the first line.\n",
      "Writing to a new file using 'w' mode.\n",
      "\n",
      "\n",
      "Text appended successfully!\n",
      "\n",
      "--- Updated File Content ---\n",
      "This is the first line.\n",
      "Writing to a new file using 'w' mode.\n",
      "This line was appended later.\n",
      "\n"
     ]
    }
   ],
   "source": [
    "# Writing to a new file ('w' mode)\n",
    "with open(\"example.txt\", \"w\") as file:\n",
    "    file.write(\"This is the first line.\\n\")\n",
    "    file.write(\"Writing to a new file using 'w' mode.\\n\")\n",
    "print(\"File created and written successfully!\")\n",
    "\n",
    "# Reading from the file ('r' mode)\n",
    "try:\n",
    "    with open(\"example.txt\", \"r\") as file:\n",
    "        print(\"\\n--- File Content ---\")\n",
    "        print(file.read())\n",
    "except FileNotFoundError:\n",
    "    print(\"The file was not found.\")\n",
    "\n",
    "# Appending to the file ('a' mode)\n",
    "with open(\"example.txt\", \"a\") as file:\n",
    "    file.write(\"This line was appended later.\\n\")\n",
    "print(\"\\nText appended successfully!\")\n",
    "\n",
    "# Reading again to confirm\n",
    "with open(\"example.txt\", \"r\") as file:\n",
    "    print(\"\\n--- Updated File Content ---\")\n",
    "    print(file.read())\n"
   ]
  },
  {
   "cell_type": "code",
   "execution_count": null,
   "id": "e5b84c7c-824e-469b-ae13-d435d8c841a0",
   "metadata": {},
   "outputs": [],
   "source": []
  }
 ],
 "metadata": {
  "kernelspec": {
   "display_name": "Python [conda env:base] *",
   "language": "python",
   "name": "conda-base-py"
  },
  "language_info": {
   "codemirror_mode": {
    "name": "ipython",
    "version": 3
   },
   "file_extension": ".py",
   "mimetype": "text/x-python",
   "name": "python",
   "nbconvert_exporter": "python",
   "pygments_lexer": "ipython3",
   "version": "3.12.7"
  }
 },
 "nbformat": 4,
 "nbformat_minor": 5
}
