{
 "cells": [
  {
   "cell_type": "code",
   "execution_count": 1,
   "id": "b06252d9-40ab-4df3-ac2c-e9334385ad9f",
   "metadata": {},
   "outputs": [
    {
     "name": "stdin",
     "output_type": "stream",
     "text": [
      "Enter number of students:  3\n",
      "Enter name of student 1:  joyce\n",
      "Enter grade for joyce:  60\n"
     ]
    },
    {
     "name": "stdout",
     "output_type": "stream",
     "text": [
      "Added joyce with grade 60.0\n"
     ]
    },
    {
     "name": "stdin",
     "output_type": "stream",
     "text": [
      "Enter name of student 2:  lady\n",
      "Enter grade for lady:  80\n"
     ]
    },
    {
     "name": "stdout",
     "output_type": "stream",
     "text": [
      "Added lady with grade 80.0\n"
     ]
    },
    {
     "name": "stdin",
     "output_type": "stream",
     "text": [
      "Enter name of student 3:  zy\n",
      "Enter grade for zy:  90\n"
     ]
    },
    {
     "name": "stdout",
     "output_type": "stream",
     "text": [
      "Added zy with grade 90.0\n",
      "\n",
      "Student Grades:\n",
      "joyce: 60.0\n",
      "lady: 80.0\n",
      "zy: 90.0\n",
      "\n",
      "Average Grade: 76.7\n",
      "Highest Grade: 90.0\n"
     ]
    }
   ],
   "source": [
    "#Task 1.1: Student Grade Manager\n",
    "# Create empty lists\n",
    "student_names = []\n",
    "grades = []\n",
    "\n",
    "# Function to add a student and their grade\n",
    "def add_student(name, grade):\n",
    "    student_names.append(name)\n",
    "    grades.append(grade)\n",
    "    print(f\"Added {name} with grade {grade}\")\n",
    "\n",
    "# Function to calculate average grade\n",
    "def calculate_average():\n",
    "    if len(grades) == 0:\n",
    "        return 0\n",
    "    return sum(grades) / len(grades)\n",
    "\n",
    "# Function to find the highest grade\n",
    "def find_highest():\n",
    "    if len(grades) == 0:\n",
    "        return 0\n",
    "    return max(grades)\n",
    "\n",
    "# Function to display all students and grades\n",
    "def display_students():\n",
    "    print(\"\\nStudent Grades:\")\n",
    "    for i in range(len(student_names)):\n",
    "        print(f\"{student_names[i]}: {grades[i]}\")\n",
    "\n",
    "num_students = int(input(\"Enter number of students: \"))\n",
    "\n",
    "for i in range(num_students):\n",
    "    name = input(f\"Enter name of student {i+1}: \")\n",
    "    grade = float(input(f\"Enter grade for {name}: \"))\n",
    "    add_student(name, grade)\n",
    "\n",
    "display_students()\n",
    "print(f\"\\nAverage Grade: {calculate_average():.1f}\")\n",
    "print(f\"Highest Grade: {find_highest()}\")\n"
   ]
  },
  {
   "cell_type": "markdown",
   "id": "f2d1c769-84c5-4f61-8db3-e87ac4f4e1fa",
   "metadata": {},
   "source": [
    "## List Operations Practice\n",
    "# User inputs a list of numbers\n",
    "numbers = []\n",
    "\n",
    "count = int(input(\"\\nHow many numbers will you enter? \"))\n",
    "for i in range(count):\n",
    "    num = int(input(f\"Enter number {i+1}: \"))\n",
    "    numbers.append(num)\n",
    "\n",
    "# Perform list operations\n",
    "numbers.sort()\n",
    "print(\"\\nSorted List:\", numbers)\n",
    "\n",
    "total = sum(numbers)\n",
    "average = total / len(numbers)\n",
    "print(\"Sum:\", total)\n",
    "print(\"Average:\", average)\n",
    "print(\"Maximum:\", max(numbers))\n",
    "print(\"Minimum:\", min(numbers))\n",
    "print(\"Length of list:\", len(numbers))\n"
   ]
  },
  {
   "cell_type": "code",
   "execution_count": null,
   "id": "4e31d2e7-d6ea-4b0f-b56e-f5b27b788080",
   "metadata": {},
   "outputs": [],
   "source": []
  }
 ],
 "metadata": {
  "kernelspec": {
   "display_name": "Python [conda env:base] *",
   "language": "python",
   "name": "conda-base-py"
  },
  "language_info": {
   "codemirror_mode": {
    "name": "ipython",
    "version": 3
   },
   "file_extension": ".py",
   "mimetype": "text/x-python",
   "name": "python",
   "nbconvert_exporter": "python",
   "pygments_lexer": "ipython3",
   "version": "3.12.7"
  }
 },
 "nbformat": 4,
 "nbformat_minor": 5
}
