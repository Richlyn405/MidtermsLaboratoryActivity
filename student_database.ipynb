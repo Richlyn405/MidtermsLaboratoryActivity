{
 "cells": [
  {
   "cell_type": "code",
   "execution_count": null,
   "id": "4b3423bf-9d10-4258-8fd3-2c062feb7843",
   "metadata": {},
   "outputs": [
    {
     "name": "stdout",
     "output_type": "stream",
     "text": [
      "\n",
      "Enter details for Student 1:\n"
     ]
    },
    {
     "name": "stdin",
     "output_type": "stream",
     "text": [
      "ID:  011\n",
      "Name:  jl\n",
      "Grade:  34\n",
      "Major:  cs\n"
     ]
    },
    {
     "name": "stdout",
     "output_type": "stream",
     "text": [
      "\n",
      "Enter details for Student 2:\n"
     ]
    },
    {
     "name": "stdin",
     "output_type": "stream",
     "text": [
      "ID:  dfkm\n",
      "Name:  df\n",
      "Grade:  d\n",
      "Major:  d\n"
     ]
    },
    {
     "name": "stdout",
     "output_type": "stream",
     "text": [
      "\n",
      "Enter details for Student 3:\n"
     ]
    },
    {
     "name": "stdin",
     "output_type": "stream",
     "text": [
      "ID:  df\n",
      "Name:  df\n",
      "Grade:  df\n",
      "Major:  df\n"
     ]
    },
    {
     "name": "stdout",
     "output_type": "stream",
     "text": [
      "\n",
      "--- Student List ---\n",
      "ID: 011\n",
      "Name: jl\n",
      "Grade: 34\n",
      "Major: cs\n",
      "\n",
      "ID: dfkm\n",
      "Name: df\n",
      "Grade: d\n",
      "Major: d\n",
      "\n",
      "ID: df\n",
      "Name: df\n",
      "Grade: df\n",
      "Major: df\n",
      "\n"
     ]
    },
    {
     "name": "stdin",
     "output_type": "stream",
     "text": [
      "Enter student ID to view info:  dfkm\n"
     ]
    },
    {
     "name": "stdout",
     "output_type": "stream",
     "text": [
      "ID: dfkm\n",
      "Name: df\n",
      "Grade: d\n",
      "Major: d\n"
     ]
    }
   ],
   "source": [
    "#Task 3.1: Student Database\n",
    "# Empty dictionary\n",
    "students = {}\n",
    "\n",
    "# Function to add a student\n",
    "def add_student(student_id, name, grade, major):\n",
    "    students[student_id] = {'name': name, 'grade': grade, 'major': major}\n",
    "\n",
    "# Function to retrieve student information\n",
    "def get_student(student_id):\n",
    "    if student_id in students:\n",
    "        s = students[student_id]\n",
    "        print(f\"ID: {student_id}\")\n",
    "        print(f\"Name: {s['name']}\")\n",
    "        print(f\"Grade: {s['grade']}\")\n",
    "        print(f\"Major: {s['major']}\")\n",
    "    else:\n",
    "        print(\"Student not found.\")\n",
    "\n",
    "# Function to update a student's grade\n",
    "def update_grade(student_id, new_grade):\n",
    "    if student_id in students:\n",
    "        students[student_id]['grade'] = new_grade\n",
    "        print(\"Grade updated successfully!\")\n",
    "    else:\n",
    "        print(\"Student not found.\")\n",
    "\n",
    "# Function to display all students\n",
    "def display_students():\n",
    "    print(\"\\n--- Student List ---\")\n",
    "    for sid, info in students.items():\n",
    "        print(f\"ID: {sid}\")\n",
    "        print(f\"Name: {info['name']}\")\n",
    "        print(f\"Grade: {info['grade']}\")\n",
    "        print(f\"Major: {info['major']}\")\n",
    "        print()\n",
    "\n",
    "for i in range(3):\n",
    "    print(f\"\\nEnter details for Student {i+1}:\")\n",
    "    sid = input(\"ID: \")\n",
    "    name = input(\"Name: \")\n",
    "    grade = input(\"Grade: \")\n",
    "    major = input(\"Major: \")\n",
    "    add_student(sid, name, grade, major)\n",
    "\n",
    "# Display all students\n",
    "display_students()\n",
    "\n",
    "# Retrieve a student by ID\n",
    "search_id = input(\"Enter student ID to view info: \")\n",
    "get_student(search_id)\n",
    "\n",
    "# Update a student's grade\n",
    "update_id = input(\"Enter student ID to update grade: \")\n",
    "new_grade = input(\"Enter new grade: \")\n",
    "update_grade(update_id, new_grade)\n",
    "\n",
    "# Show updated list\n",
    "display_students()"
   ]
  },
  {
   "cell_type": "code",
   "execution_count": null,
   "id": "a088d024-80ca-420c-b340-3f0868a32d21",
   "metadata": {},
   "outputs": [],
   "source": [
    "# Ask user for input text\n",
    "text = input(\"Enter a short text (2–3 sentences): \").lower()\n",
    "\n",
    "# Split text into words\n",
    "words = text.split()\n",
    "\n",
    "# Create dictionary for word frequencies\n",
    "word_count = {}\n",
    "\n",
    "# Count each word\n",
    "for word in words:\n",
    "    word = word.strip(\".,!?\")  # remove punctuation\n",
    "    if word in word_count:\n",
    "        word_count[word] += 1\n",
    "    else:\n",
    "        word_count[word] = 1\n",
    "\n",
    "# Sort by frequency (highest first)\n",
    "sorted_words = sorted(word_count.items(), key=lambda x: x[1], reverse=True)\n",
    "\n",
    "# Display results\n",
    "print(\"\\n Word Frequencies:\")\n",
    "for word, count in sorted_words:\n",
    "    print(f\"{word}: {count}\")\n",
    "\n",
    "# Display the most common word\n",
    "most_common = sorted_words[0]\n",
    "print(f\"\\nMost common word: '{most_common[0]}' appears {most_common[1]} times.\")\n"
   ]
  },
  {
   "cell_type": "code",
   "execution_count": null,
   "id": "b2c3d710-618c-4d06-aa11-2b25daee0492",
   "metadata": {},
   "outputs": [],
   "source": []
  }
 ],
 "metadata": {
  "kernelspec": {
   "display_name": "Python [conda env:base] *",
   "language": "python",
   "name": "conda-base-py"
  },
  "language_info": {
   "codemirror_mode": {
    "name": "ipython",
    "version": 3
   },
   "file_extension": ".py",
   "mimetype": "text/x-python",
   "name": "python",
   "nbconvert_exporter": "python",
   "pygments_lexer": "ipython3",
   "version": "3.12.7"
  }
 },
 "nbformat": 4,
 "nbformat_minor": 5
}
